{
 "cells": [
  {
   "cell_type": "code",
   "execution_count": 2,
   "metadata": {},
   "outputs": [],
   "source": [
    "import torch\n",
    "import cv2\n",
    "import matplotlib.pyplot as plt\n",
    "import numpy as np\n",
    "from glob import glob\n",
    "import os\n",
    "from datetime import datetime\n",
    "import time\n",
    "import random as rd \n",
    "import pandas as pd\n",
    "from duetwebapi import DuetWebAPI as DWA\n"
   ]
  },
  {
   "cell_type": "markdown",
   "metadata": {},
   "source": [
    "<div class=\"alert alert-info\"> <h1>Use Case: Echtzeitanpassungen an 3D-gedruckten Bauteilen </h1>\n",
    "\n",
    "1. Eingabe: Bilder von Webcam, vorverarbeitet für das Modell\n",
    "2. Ausgabe: Auswertung der Bilder; G-Code Modifikationen, resultierend aus den Ergebnissen"
   ]
  },
  {
   "cell_type": "code",
   "execution_count": 2,
   "metadata": {},
   "outputs": [],
   "source": [
    "printer_hostname = '192.0.2.1'\n",
    "printer = DWA(f'http://{printer_hostname}')\n"
   ]
  },
  {
   "cell_type": "markdown",
   "metadata": {},
   "source": [
    "<div class=\"alert alert-info\"><h2> Modell Laden mit Pytorch-Hub"
   ]
  },
  {
   "cell_type": "code",
   "execution_count": 4,
   "metadata": {},
   "outputs": [
    {
     "name": "stderr",
     "output_type": "stream",
     "text": [
      "YOLOv5  2024-5-29 Python-3.9.18 torch-2.3.1+cu118 CUDA:0 (NVIDIA GeForce GTX 970, 4096MiB)\n",
      "\n",
      "Loading model.onnx for ONNX Runtime inference...\n",
      "Adding AutoShape... \n"
     ]
    }
   ],
   "source": [
    "model = torch.hub.load('yolov5', 'custom', path='model.onnx', source='local', force_reload=True, verbose=False)\n"
   ]
  },
  {
   "cell_type": "markdown",
   "metadata": {},
   "source": [
    "<div class=\"alert alert-info\"><h2> Funktionen zur Bildaufnahme und Preprocessing"
   ]
  },
  {
   "cell_type": "code",
   "execution_count": 4,
   "metadata": {},
   "outputs": [],
   "source": [
    "def bash_command():\n",
    "    file = 'image_cap.png'\n",
    "    befehl = f'fswebcam -r 640x480 -d /dev/video2 --no-banner {file}'\n",
    "    os.system(befehl)\n",
    "    print(\"foto aufgenommen.\")\n",
    "    return file"
   ]
  },
  {
   "cell_type": "code",
   "execution_count": 5,
   "metadata": {},
   "outputs": [],
   "source": [
    "def resize_with_padding(img_pil, target_size):\n",
    "    h, w = img_pil.shape[:2]\n",
    "    scale = target_size / max(h, w)\n",
    "    new_w = int(w * scale)\n",
    "    new_h = int(h * scale)\n",
    "\n",
    "    resized_img = cv2.resize(img_pil, (new_w, new_h), interpolation=cv2.INTER_LINEAR)\n",
    "\n",
    "    padded_img = np.zeros((target_size, target_size, 3), dtype=np.uint8)\n",
    "\n",
    "    top = (target_size - new_h) // 2\n",
    "    left = (target_size - new_w) // 2\n",
    "    padded_img[top:top + new_h, left:left + new_w] = resized_img\n",
    "\n",
    "    return padded_img\n",
    "\n"
   ]
  },
  {
   "cell_type": "markdown",
   "metadata": {},
   "source": [
    "<div class=\"alert alert-success\">\n",
    "  <h3>Druckerinformationen</h3>\n",
    "  <ul>\n",
    "    <li><strong>tool</strong>: Aktives Werkzeug</li>\n",
    "    <li><strong>efactor</strong>: Extrusionsfaktor in %</li>\n",
    "    <li><strong>sfactor</strong>: Geschwindigkeitsfaktor in %</li>\n",
    "    <li><strong>heaters</strong>: Temperaturen; 3er Array als [T0, T1, Bett]</li>\n",
    "    <li><strong>babystep</strong>: Abstand Nozzle &lt;-&gt; Bett</li>\n",
    "    <li><strong>hstat</strong>: Status der Heizer; 3er Array mit 0 = aus, 1 = an, 2 = standby</li>\n",
    "  </ul>\n",
    "<par> speichere als Variablen </par>\n",
    "</div>\n"
   ]
  },
  {
   "cell_type": "markdown",
   "metadata": {},
   "source": [
    "<div class=\"alert alert-success\"><h1> Start"
   ]
  },
  {
   "cell_type": "code",
   "execution_count": 177,
   "metadata": {},
   "outputs": [
    {
     "name": "stdout",
     "output_type": "stream",
     "text": [
      "tool:\t\t\t1\n",
      "extrusions:\t\t125.0\n",
      "speed:\t\t\t90.0%\n",
      "temp:\t\t\t210.0°C\n",
      "\n"
     ]
    }
   ],
   "source": [
    "import json\n",
    "\n",
    "# Originales Dictionary\n",
    "status = printer.send_code('M408')\n",
    "# Extrahiere den String im Schlüssel 'response'\n",
    "response_str = status['response']\n",
    "\n",
    "# Wandle den String in ein echtes Dictionary um\n",
    "data = json.loads(response_str)\n",
    "\n",
    "tool = int(data['tool'])\n",
    "efactor = data['efactor'][tool] #list -> float\n",
    "sfactor = data['sfactor'] # float\n",
    "temp = data['active'][tool+1] \n",
    "babystep = data['babystep']\n",
    "\n",
    "\n",
    "print(f'tool:\\t\\t\\t{tool}\\nextrusions:\\t\\t{efactor}\\nspeed:\\t\\t\\t{sfactor}%\\ntemp:\\t\\t\\t{temp}°C\\n')\n"
   ]
  },
  {
   "cell_type": "markdown",
   "metadata": {},
   "source": [
    "<div class=\"alert alert-info\"> <h3> Bildaufnahme (raw)"
   ]
  },
  {
   "cell_type": "code",
   "execution_count": 84,
   "metadata": {},
   "outputs": [
    {
     "name": "stdout",
     "output_type": "stream",
     "text": [
      "foto aufgenommen.\n"
     ]
    },
    {
     "name": "stderr",
     "output_type": "stream",
     "text": [
      "\u001b[1m--- Opening /dev/video2...\n",
      "\u001b[0m\u001b[0mTrying source module v4l2...\n",
      "\u001b[0m\u001b[0m/dev/video2 opened.\n",
      "\u001b[0m\u001b[0mNo input was specified, using the first.\n",
      "\u001b[0m\u001b[31mError selecting input 0\n",
      "\u001b[0m\u001b[31mVIDIOC_S_INPUT: Device or resource busy\n",
      "\u001b[0m"
     ]
    }
   ],
   "source": [
    "im = bash_command()"
   ]
  },
  {
   "cell_type": "markdown",
   "metadata": {},
   "source": [
    "<div class=\"alert alert-info\"><h3> Bild einlesen und Modell anwenden"
   ]
  },
  {
   "cell_type": "code",
   "execution_count": 178,
   "metadata": {},
   "outputs": [
    {
     "data": {
      "text/plain": [
       "True"
      ]
     },
     "execution_count": 178,
     "metadata": {},
     "output_type": "execute_result"
    }
   ],
   "source": [
    "#im = 'testbilder/my_photo-15.jpg'\n",
    "path = cv2.imread(im)\n",
    "img = resize_with_padding(path, 640)\n",
    "\n",
    "img = cv2.cvtColor(img, cv2.COLOR_BGR2GRAY)\n",
    "#cv2.imwrite('testing_image.jpg', img)\n",
    "result = model(img)\n",
    "result.pandas().xyxy[0]\n",
    "cv2.imwrite('testbilder/results/detection2.jpg', np.squeeze(result.render()))"
   ]
  },
  {
   "cell_type": "markdown",
   "metadata": {},
   "source": [
    "<div class=\"alert alert-info\">\n",
    "<h2>Modell auf alle Bilder im Verzeichnis anwenden"
   ]
  },
  {
   "cell_type": "code",
   "execution_count": 10,
   "metadata": {},
   "outputs": [
    {
     "data": {
      "text/plain": [
       "'test_images\\\\anotherstringy.jpg'"
      ]
     },
     "execution_count": 10,
     "metadata": {},
     "output_type": "execute_result"
    }
   ],
   "source": [
    "from glob import glob\n",
    "files = glob('test_images/*.jpg')\n",
    "\n",
    "for i, file in enumerate(files):\n",
    "    im = cv2.imread(file)\n",
    "    im = resize_with_padding(im, 640)\n",
    "    im = cv2.cvtColor(im, cv2.COLOR_BGR2GRAY)\n",
    "    result = model(im)\n",
    "    result.pandas().xyxy[0]\n",
    "    cv2.imwrite(f'Detections/detection_{i}.jpg', np.squeeze(result.render()))"
   ]
  },
  {
   "cell_type": "markdown",
   "metadata": {},
   "source": [
    "<div class=\"alert alert-info\">\n",
    "<h3>Weiterverwenden der Ergebnisse </h3>\n",
    "\n",
    "\n",
    "</div>"
   ]
  },
  {
   "cell_type": "code",
   "execution_count": 179,
   "metadata": {},
   "outputs": [
    {
     "name": "stdout",
     "output_type": "stream",
     "text": [
      "stringing\t->\t0.43\n"
     ]
    }
   ],
   "source": [
    "labels = result.pandas().xyxy[0]['name']\n",
    "conf = result.pandas().xyxy[0]['confidence']\n",
    "for i in range(len(labels)):\n",
    "    print(f'{labels[i]}\\t->\\t{round(conf[i], 2)}')\n"
   ]
  },
  {
   "cell_type": "markdown",
   "metadata": {},
   "source": [
    "<div class=\"alert alert-info\">\n",
    "<h3>Filtere die Ergebnisse </h3>\n",
    "nur Detections über einem <b>bestimmten Schwellwert</b> sollen berücksichtigt werden für die G-Code-Anpassungen\n",
    "\n",
    "</div>"
   ]
  },
  {
   "cell_type": "code",
   "execution_count": 180,
   "metadata": {},
   "outputs": [],
   "source": [
    "confidence_threshold = 0.369\n",
    "filtered = result.pandas().xyxy[0][result.pandas().xyxy[0]['confidence'] > confidence_threshold]['name'].tolist()"
   ]
  },
  {
   "cell_type": "markdown",
   "metadata": {},
   "source": [
    "<div class=\"alert alert-info\">\n",
    "<h3>Verarbeite die Informationen aus Drucker-Status </h3>\n",
    "\n",
    "\n",
    "</div>"
   ]
  },
  {
   "cell_type": "code",
   "execution_count": 181,
   "metadata": {},
   "outputs": [
    {
     "data": {
      "text/plain": [
       "(90.0, 125.0, 210.0)"
      ]
     },
     "execution_count": 181,
     "metadata": {},
     "output_type": "execute_result"
    }
   ],
   "source": [
    "sfactor, efactor, temp"
   ]
  },
  {
   "cell_type": "code",
   "execution_count": 182,
   "metadata": {},
   "outputs": [
    {
     "name": "stdout",
     "output_type": "stream",
     "text": [
      "Stringing erkannt! Passe die Parameter an.\n",
      "Extrusionstemperatur auf 200.0°C reduziert\n",
      "Geschwindigkeitsfaktor auf 85.0% reduziert.\n"
     ]
    }
   ],
   "source": [
    "def adjust_code(filtered_classes, sfactor, efactor, temp):\n",
    "    # Überprüfe auf Stringing und passe den Geschwindigkeitsfaktor (sfactor) an\n",
    "    with open('output.log', 'a') as log:\n",
    "        if 'stringing' in filtered_classes:\n",
    "            print('Stringing erkannt! Passe die Parameter an.')\n",
    "\n",
    "            if temp > 195:\n",
    "                temp -= 10\n",
    "                print(f'Extrusionstemperatur auf {temp}°C reduziert')\n",
    "            else:\n",
    "                print(f'Temperatur auf Minimum reduziert! ({temp}°C)')    \n",
    "\n",
    "            if sfactor > 80.0:\n",
    "                sfactor -= 5\n",
    "                print(f'Geschwindigkeitsfaktor auf {sfactor}% reduziert.')\n",
    "                \n",
    "            else:\n",
    "                print(f'Speedfaktor auf ein Minimum reduziert! ({sfactor}%)')\n",
    "\n",
    "            #if efactor > 95.0:\n",
    "             #   efactor -= 5\n",
    "              #  print(f'ExFac auf {efactor}% reduziert')\n",
    "        # Überprüfe auf Overextrusion und passe den Extrusionsfaktor (efactor) an\n",
    "        if 'overextrusion' in filtered_classes:\n",
    "            print('Overextrusion erkannt! Passe die Parameter an.')\n",
    "            if efactor > 95.0:\n",
    "                efactor -= 5\n",
    "                print(f'Extrusionsfaktor auf {efactor}% reduziert.')\n",
    "                \n",
    "            else:\n",
    "                print(f'Extrusionsfaktor auf Minimum! ({efactor}%)')\n",
    "\n",
    "    # Rückgabe der aktualisierten Werte\n",
    "    return sfactor, efactor, temp\n",
    "sf, ef, t = adjust_code(filtered, sfactor, efactor, temp)\n"
   ]
  },
  {
   "cell_type": "code",
   "execution_count": 183,
   "metadata": {},
   "outputs": [
    {
     "data": {
      "text/plain": [
       "(85.0, 125.0, 200.0)"
      ]
     },
     "execution_count": 183,
     "metadata": {},
     "output_type": "execute_result"
    }
   ],
   "source": [
    "sf, ef, t\n"
   ]
  },
  {
   "cell_type": "markdown",
   "metadata": {},
   "source": [
    "<div class=\"alert alert-success\"><h2>Sende aktualisierte Parameter an Drucker-API"
   ]
  },
  {
   "cell_type": "code",
   "execution_count": 184,
   "metadata": {},
   "outputs": [
    {
     "data": {
      "text/plain": [
       "{'response': '\\n\\n\\n'}"
      ]
     },
     "execution_count": 184,
     "metadata": {},
     "output_type": "execute_result"
    }
   ],
   "source": [
    "printer.send_code(f'M221 S{ef}')\n",
    "printer.send_code(f'M104 S{t}')\n",
    "printer.send_code(f'M220 S{sf}')"
   ]
  },
  {
   "cell_type": "markdown",
   "metadata": {},
   "source": [
    "<div class=\"alert alert-info\"> <h2> optional: Schreibe Verlauf in Logfile"
   ]
  },
  {
   "cell_type": "code",
   "execution_count": 185,
   "metadata": {},
   "outputs": [],
   "source": [
    "import logging\n",
    "logging.basicConfig(filename='output.log', level=logging.INFO)\n",
    "with open('output.log', 'a') as log:\n",
    "    if 'stringing' in labels:\n",
    "        log.write(f'{datetime.now().time().strftime(\"%H:%M:%S\")}\\tStringing; params:\\t\\t speedfactor={sf}, exfactor={ef}, temp={t}\\n')\n",
    "    elif 'overextrusion' in labels:\n",
    "        log.write(f'{datetime.now().time().strftime(\"%H:%M:%S\")}\\toverextrusion; params:\\t\\t speedfactor={sf}, exfactor={ef}, temp={t}\\n')\n",
    "    else: \n",
    "        log.write(f'{datetime.now().time().strftime(\"%H:%M:%S\")}\\tpass\\n')    "
   ]
  }
 ],
 "metadata": {
  "kernelspec": {
   "display_name": "mlmodeling",
   "language": "python",
   "name": "python3"
  },
  "language_info": {
   "codemirror_mode": {
    "name": "ipython",
    "version": 3
   },
   "file_extension": ".py",
   "mimetype": "text/x-python",
   "name": "python",
   "nbconvert_exporter": "python",
   "pygments_lexer": "ipython3",
   "version": "3.9.18"
  }
 },
 "nbformat": 4,
 "nbformat_minor": 2
}
